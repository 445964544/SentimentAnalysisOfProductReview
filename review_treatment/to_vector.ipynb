{
 "cells": [
  {
   "cell_type": "code",
   "execution_count": 2,
   "metadata": {
    "pycharm": {
     "is_executing": false
    }
   },
   "outputs": [],
   "source": [
    "from gensim.models import word2vec\n",
    "import pandas as pd\n",
    "import os\n",
    "import csv"
   ]
  },
  {
   "cell_type": "code",
   "execution_count": 4,
   "metadata": {
    "pycharm": {
     "is_executing": false
    }
   },
   "outputs": [],
   "source": [
    "os.chdir(\"/Users/chensx/Desktop/graduation_project/review_crawler\")\n",
    "df_train = pd.read_csv('review.csv')\n",
    "discuss_train = list(df_train['after_treatment'])\n"
   ]
  },
  {
   "cell_type": "code",
   "execution_count": 30,
   "metadata": {
    "pycharm": {
     "name": "#%%\n"
    }
   },
   "outputs": [],
   "source": [
    "with open('train_cut.csv', 'a') as f:\n",
    "    f_csv = csv.writer(f)\n",
    "    for i in discuss_train:\n",
    "        f_csv.writerow([str(i)])"
   ]
  },
  {
   "cell_type": "code",
   "execution_count": 8,
   "metadata": {
    "pycharm": {
     "name": "#%%\n",
     "is_executing": false
    }
   },
   "outputs": [
    {
     "name": "stdout",
     "text": [
      "('很', 0.999954342842102)\n",
      "('买', 0.9999504685401917)\n",
      "('不错', 0.9999487996101379)\n",
      "('玩', 0.9999476671218872)\n",
      "('好', 0.9999476075172424)\n",
      "('还', 0.9999440908432007)\n",
      "('非常', 0.9999417662620544)\n",
      "('喜欢', 0.9999390244483948)\n",
      "('都', 0.9999369382858276)\n",
      "('客服', 0.9999349117279053)\n",
      "('收到', 0.9999335408210754)\n",
      "('不', 0.9999330043792725)\n",
      "('没有', 0.9999299049377441)\n",
      "('手感', 0.9999282360076904)\n",
      "('没', 0.9999280571937561)\n",
      "('流畅', 0.9999278783798218)\n",
      "('快递', 0.999925971031189)\n",
      "('上', 0.9999258518218994)\n",
      "('说', 0.9999251365661621)\n",
      "('问题', 0.999923825263977)\n"
     ],
     "output_type": "stream"
    },
    {
     "name": "stderr",
     "text": [
      "/usr/local/lib/python3.7/site-packages/ipykernel_launcher.py:4: DeprecationWarning: Call to deprecated `most_similar` (Method will be removed in 4.0.0, use self.wv.most_similar() instead).\n",
      "  after removing the cwd from sys.path.\n"
     ],
     "output_type": "stream"
    }
   ],
   "source": [
    "sentences = word2vec.Text8Corpus('train_cut.csv')\n",
    "model = word2vec.Word2Vec(sentences, size=200)\n",
    "y = model.most_similar(u\"手机\", topn=20)\n",
    "for a in y:\n",
    "    print(a)\n",
    "\n"
   ]
  }
 ],
 "metadata": {
  "kernelspec": {
   "display_name": "Python 3",
   "language": "python",
   "name": "python3"
  },
  "language_info": {
   "codemirror_mode": {
    "name": "ipython",
    "version": 3
   },
   "file_extension": ".py",
   "mimetype": "text/x-python",
   "name": "python",
   "nbconvert_exporter": "python",
   "pygments_lexer": "ipython3",
   "version": "3.7.1"
  },
  "pycharm": {
   "stem_cell": {
    "cell_type": "raw",
    "source": [],
    "metadata": {
     "collapsed": false
    }
   }
  }
 },
 "nbformat": 4,
 "nbformat_minor": 2
}